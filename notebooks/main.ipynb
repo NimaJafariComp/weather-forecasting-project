{
 "cells": [
  {
   "cell_type": "code",
   "execution_count": 9,
   "id": "a3605085-b452-422f-b82d-dae7841bfab3",
   "metadata": {},
   "outputs": [],
   "source": [
    "# begin here"
   ]
  },
  {
   "cell_type": "code",
   "execution_count": null,
   "id": "479a2eb5-0317-45a9-8caf-6fbd38aaddb3",
   "metadata": {},
   "outputs": [],
   "source": [
    "# I was here"
   ]
  }
 ],
 "metadata": {
  "kernelspec": {
   "display_name": "Python 3 (ipykernel)",
   "language": "python",
   "name": "python3"
  },
  "language_info": {
   "codemirror_mode": {
    "name": "ipython",
    "version": 3
   },
   "file_extension": ".py",
   "mimetype": "text/x-python",
   "name": "python",
   "nbconvert_exporter": "python",
   "pygments_lexer": "ipython3",
   "version": "3.12.2"
  }
 },
 "nbformat": 4,
 "nbformat_minor": 5
}
